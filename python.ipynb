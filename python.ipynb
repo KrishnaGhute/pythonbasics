{
 "cells": [
  {
   "cell_type": "markdown",
   "id": "22fe75ab-fb67-4b46-b0f4-892c60c4d730",
   "metadata": {},
   "source": [
    "# sets \n",
    "- sets are unordred\n",
    "## we can\n",
    "- iterate\n",
    "- mutable\n",
    "- no duplicate elements"
   ]
  },
  {
   "cell_type": "code",
   "execution_count": 2,
   "id": "3de28f98-7567-4e8a-ba01-e586dd84e0f2",
   "metadata": {},
   "outputs": [
    {
     "name": "stdout",
     "output_type": "stream",
     "text": [
      "{2, 3, 4, 5}\n"
     ]
    }
   ],
   "source": [
    "set={2,4,3,5,2}#not duplicate elements\n",
    "print(set)"
   ]
  },
  {
   "cell_type": "code",
   "execution_count": 8,
   "id": "cfd2f5eb-62c6-4460-8a26-c177f6186f26",
   "metadata": {},
   "outputs": [
    {
     "name": "stdout",
     "output_type": "stream",
     "text": [
      "{2, 3, 4, 5, 'krishna'}\n"
     ]
    }
   ],
   "source": [
    "set1={2,4,3,5,2}#not duplicate elements\n",
    "set.add(\"krishna\")\n",
    "print(set)"
   ]
  },
  {
   "cell_type": "code",
   "execution_count": 9,
   "id": "0746e286-d99d-45ca-88b6-8389b998f0a5",
   "metadata": {},
   "outputs": [
    {
     "data": {
      "text/plain": [
       "{'krishna'}"
      ]
     },
     "execution_count": 9,
     "metadata": {},
     "output_type": "execute_result"
    }
   ],
   "source": [
    "set2={3,5,2,4,6}\n",
    "set.difference(set1)"
   ]
  },
  {
   "cell_type": "code",
   "execution_count": 16,
   "id": "b2066323-75df-4bfc-9df0-20642d406343",
   "metadata": {},
   "outputs": [
    {
     "data": {
      "text/plain": [
       "{3, 4, 5}"
      ]
     },
     "execution_count": 16,
     "metadata": {},
     "output_type": "execute_result"
    }
   ],
   "source": [
    "set2.intersection(set1)"
   ]
  },
  {
   "cell_type": "code",
   "execution_count": null,
   "id": "928e587a-6f89-49ba-ac41-cb09f9bb81d6",
   "metadata": {},
   "outputs": [],
   "source": []
  },
  {
   "cell_type": "markdown",
   "id": "2e5b9527-e16f-4148-be32-7d0f7a54ab1b",
   "metadata": {},
   "source": [
    "# Dictionary\n",
    "- unordered\n",
    "- changable\n",
    "- indexed\n",
    "- having key values"
   ]
  },
  {
   "cell_type": "code",
   "execution_count": 19,
   "id": "0dfeb209-0a9c-4bc3-9254-4ebb37731e3f",
   "metadata": {},
   "outputs": [
    {
     "name": "stdout",
     "output_type": "stream",
     "text": [
      "{'t1': 'volvo', 't2': 'tata', 't3': 'bharatbenz'}\n"
     ]
    }
   ],
   "source": [
    "dic={\"t1\":\"volvo\" , \"t2\":\"tata\" , \"t3\":\"bharatbenz\"}\n",
    "print(dic)"
   ]
  },
  {
   "cell_type": "code",
   "execution_count": 20,
   "id": "f20866f6-f462-4b22-8b62-15c4cc95df97",
   "metadata": {},
   "outputs": [
    {
     "data": {
      "text/plain": [
       "set"
      ]
     },
     "execution_count": 20,
     "metadata": {},
     "output_type": "execute_result"
    }
   ],
   "source": [
    "type(set1)"
   ]
  },
  {
   "cell_type": "code",
   "execution_count": 21,
   "id": "a9600879-0fb6-4a23-b134-7506525bef64",
   "metadata": {},
   "outputs": [
    {
     "name": "stdout",
     "output_type": "stream",
     "text": [
      "t1\n",
      "t2\n",
      "t3\n"
     ]
    }
   ],
   "source": [
    "for x in dic:\n",
    "    print(x)"
   ]
  },
  {
   "cell_type": "code",
   "execution_count": 24,
   "id": "b9289626-a6dc-4e5a-b356-8fa1d6aa6fc6",
   "metadata": {},
   "outputs": [
    {
     "name": "stdout",
     "output_type": "stream",
     "text": [
      "volvo\n",
      "tata\n",
      "bharatbenz\n"
     ]
    }
   ],
   "source": [
    "for x in dic.values():\n",
    "    print(x)"
   ]
  },
  {
   "cell_type": "code",
   "execution_count": 25,
   "id": "ea45c843-c44a-4fef-ab0c-eb1297ec1e0a",
   "metadata": {},
   "outputs": [
    {
     "name": "stdout",
     "output_type": "stream",
     "text": [
      "('t1', 'volvo')\n",
      "('t2', 'tata')\n",
      "('t3', 'bharatbenz')\n"
     ]
    }
   ],
   "source": [
    "for x in dic.items():\n",
    "    print(x)"
   ]
  },
  {
   "cell_type": "code",
   "execution_count": 28,
   "id": "0af93c9a-449f-4b7f-8df0-f70fc911d9f2",
   "metadata": {},
   "outputs": [
    {
     "name": "stdout",
     "output_type": "stream",
     "text": [
      "{'t1': 'volvo', 't2': 'tata', 't3': 'ashok leyland'}\n"
     ]
    }
   ],
   "source": [
    "dic[\"t3\"]=\"ashok leyland\"\n",
    "print(dic)"
   ]
  },
  {
   "cell_type": "code",
   "execution_count": 29,
   "id": "2cb2d17f-6ce6-4de6-a5df-30c57a783760",
   "metadata": {},
   "outputs": [
    {
     "name": "stdout",
     "output_type": "stream",
     "text": [
      "{'t1': 'volvo', 't2': 'tata', 't3': 'ashok leyland', 't4': 'ashok leyland'}\n"
     ]
    }
   ],
   "source": [
    "dic[\"t4\"]=\"ashok leyland\"\n",
    "print(dic)"
   ]
  },
  {
   "cell_type": "code",
   "execution_count": 6,
   "id": "d6823a73-e76f-4069-8d15-47eb9a033b2b",
   "metadata": {},
   "outputs": [
    {
     "name": "stdout",
     "output_type": "stream",
     "text": [
      "{'cat': 'a small animal', 'table': ['a peace of firnituear', 'list of facts and figures']}\n"
     ]
    }
   ],
   "source": [
    "dic={\"cat\":\"a small animal\",\"table\":[\"a peace of firnituear\",\"list of facts and figures\"]}\n",
    "print(dic)"
   ]
  },
  {
   "cell_type": "code",
   "execution_count": 11,
   "id": "44a6532c-4bdb-4b41-9464-6666227d5cd2",
   "metadata": {},
   "outputs": [
    {
     "name": "stdin",
     "output_type": "stream",
     "text": [
      "enter marks of physic: 97\n",
      "enter marks of chemistery: 94\n"
     ]
    },
    {
     "name": "stdout",
     "output_type": "stream",
     "text": [
      "{'physic': 97, 'chemistery': 94}\n"
     ]
    }
   ],
   "source": [
    "marks={}\n",
    "x=int(input(\"enter marks of physic:\"))\n",
    "marks.update({\"physic\":x})#update marks to the dictionary\n",
    "y=int(input(\"enter marks of chemistery:\"))\n",
    "marks.update({\"chemistery\":y})\n",
    "print(marks)#remember to use print function for dictionary"
   ]
  },
  {
   "cell_type": "code",
   "execution_count": 14,
   "id": "6988afb2-6f11-437f-aeef-88ed70b31022",
   "metadata": {},
   "outputs": [
    {
     "name": "stdout",
     "output_type": "stream",
     "text": [
      "{9, '9.0'}\n",
      "<class 'set'>\n",
      "{9.0, '9'}\n",
      "{('float', 9.0), ('int', 9)}\n"
     ]
    }
   ],
   "source": [
    "#how to store different numbers in dictionary\n",
    "val1={9,\"9.0\"}\n",
    "print(val1)\n",
    "print(type(val1))\n",
    "val2={\"9\",9.0}\n",
    "print(val2)\n",
    "val3={(\"int\",9),(\"float\",9.0)}\n",
    "print(val3)"
   ]
  },
  {
   "cell_type": "markdown",
   "id": "3876d463-87e7-49c0-a669-cd26f782ea8e",
   "metadata": {
    "jp-MarkdownHeadingCollapsed": true
   },
   "source": [
    "## nested dictionary"
   ]
  },
  {
   "cell_type": "code",
   "execution_count": 31,
   "id": "2c5ffa3d-d69b-45cf-ba26-3f4d0fc7e407",
   "metadata": {},
   "outputs": [
    {
     "name": "stdout",
     "output_type": "stream",
     "text": [
      "{'ct1': {'maruti': 1980}, 'ct2': {'tata': 1990}, 'ct3': {'audi': 2000}}\n"
     ]
    }
   ],
   "source": [
    "car_model1={\"maruti\":1980}\n",
    "car_model2={\"tata\":1990}\n",
    "car_model3={\"audi\":2000}\n",
    "car_type={\"ct1\":car_model1 , \"ct2\":car_model2 , \"ct3\":car_model3}\n",
    "print(car_type)"
   ]
  },
  {
   "cell_type": "code",
   "execution_count": 33,
   "id": "982e254c-48a2-4adc-bd54-7b125e3af91e",
   "metadata": {},
   "outputs": [
    {
     "name": "stdout",
     "output_type": "stream",
     "text": [
      "{'maruti': 1980}\n"
     ]
    }
   ],
   "source": [
    "print(car_type[\"ct1\"])"
   ]
  },
  {
   "cell_type": "code",
   "execution_count": 34,
   "id": "512a6e69-85c8-4725-9b6c-b867ff804965",
   "metadata": {},
   "outputs": [
    {
     "name": "stdout",
     "output_type": "stream",
     "text": [
      "1990\n"
     ]
    }
   ],
   "source": [
    "print(car_type[\"ct2\"][\"tata\"])"
   ]
  },
  {
   "cell_type": "markdown",
   "id": "07ac0e15-ad81-45e7-8adc-896f9ef0985a",
   "metadata": {},
   "source": [
    "# tuple\n",
    "- not mutable"
   ]
  },
  {
   "cell_type": "code",
   "execution_count": 35,
   "id": "7d432bcd-d7a4-499b-a4d7-ebc54f09abbf",
   "metadata": {},
   "outputs": [
    {
     "name": "stdout",
     "output_type": "stream",
     "text": [
      "('krish', 'aditya', 'bal')\n"
     ]
    }
   ],
   "source": [
    "mytuple=(\"krish\",\"aditya\",\"bal\")\n",
    "print(mytuple)"
   ]
  },
  {
   "cell_type": "code",
   "execution_count": 36,
   "id": "428c882f-ff99-41ce-b5bd-3f462359bd4c",
   "metadata": {},
   "outputs": [
    {
     "ename": "TypeError",
     "evalue": "'tuple' object does not support item assignment",
     "output_type": "error",
     "traceback": [
      "\u001b[1;31m---------------------------------------------------------------------------\u001b[0m",
      "\u001b[1;31mTypeError\u001b[0m                                 Traceback (most recent call last)",
      "Cell \u001b[1;32mIn[36], line 1\u001b[0m\n\u001b[1;32m----> 1\u001b[0m mytuple[\u001b[38;5;241m0\u001b[39m]\u001b[38;5;241m=\u001b[39m\u001b[38;5;124m\"\u001b[39m\u001b[38;5;124maai\u001b[39m\u001b[38;5;124m\"\u001b[39m\n",
      "\u001b[1;31mTypeError\u001b[0m: 'tuple' object does not support item assignment"
     ]
    }
   ],
   "source": [
    "mytuple[0]=\"aai\""
   ]
  },
  {
   "cell_type": "code",
   "execution_count": 39,
   "id": "aa12a0e4-750a-44a5-b264-b57c262487f1",
   "metadata": {},
   "outputs": [
    {
     "name": "stdout",
     "output_type": "stream",
     "text": [
      "('bappa', 'ira')\n"
     ]
    }
   ],
   "source": [
    "mytuple=(\"bappa\",\"ira\")\n",
    "print(mytuple)"
   ]
  },
  {
   "cell_type": "code",
   "execution_count": 5,
   "id": "6cdba1ec-8f24-46b8-be6e-db72a590d808",
   "metadata": {},
   "outputs": [
    {
     "name": "stdout",
     "output_type": "stream",
     "text": [
      "1\n",
      "2\n"
     ]
    }
   ],
   "source": [
    "mytuple=(\"hi\",\"buy\",\"tata\")\n",
    "index=mytuple.index(\"tata\")\n",
    "count=mytuple.count(\"buy\")\n",
    "print(count)\n",
    "print(index)"
   ]
  },
  {
   "cell_type": "markdown",
   "id": "d5ad3466-19a5-4c82-bc67-af17df8257a0",
   "metadata": {},
   "source": [
    "# string"
   ]
  },
  {
   "cell_type": "code",
   "execution_count": 20,
   "id": "04c958c4-4e58-4985-8e7d-2093a562578f",
   "metadata": {},
   "outputs": [
    {
     "name": "stdout",
     "output_type": "stream",
     "text": [
      "<class 'str'>\n",
      "Krishna\n",
      "False\n",
      "True\n"
     ]
    }
   ],
   "source": [
    "string=\"krishna\"\n",
    "print(type(string))\n",
    "print(string.capitalize())\n",
    "print(string.endswith(\"k\"))\n",
    "print(string.startswith(\"k\"))"
   ]
  },
  {
   "cell_type": "code",
   "execution_count": null,
   "id": "8e2827eb-974f-48f9-a173-4c8fe5537ec7",
   "metadata": {},
   "outputs": [],
   "source": []
  },
  {
   "cell_type": "markdown",
   "id": "0b6c5381-f91a-4389-b96b-da35f8c8dc5d",
   "metadata": {},
   "source": [
    "# boolin"
   ]
  },
  {
   "cell_type": "code",
   "execution_count": 21,
   "id": "30fec9a3-d668-4e5a-9d69-ad9442e5f34f",
   "metadata": {},
   "outputs": [
    {
     "data": {
      "text/plain": [
       "True"
      ]
     },
     "execution_count": 21,
     "metadata": {},
     "output_type": "execute_result"
    }
   ],
   "source": [
    "True and True"
   ]
  },
  {
   "cell_type": "code",
   "execution_count": 22,
   "id": "4fa6e775-d7eb-47eb-a297-d836df6623d8",
   "metadata": {},
   "outputs": [
    {
     "data": {
      "text/plain": [
       "False"
      ]
     },
     "execution_count": 22,
     "metadata": {},
     "output_type": "execute_result"
    }
   ],
   "source": [
    "True and False"
   ]
  },
  {
   "cell_type": "code",
   "execution_count": 23,
   "id": "6d5b1238-c2e8-4006-82a5-5abfa32e0315",
   "metadata": {},
   "outputs": [
    {
     "data": {
      "text/plain": [
       "True"
      ]
     },
     "execution_count": 23,
     "metadata": {},
     "output_type": "execute_result"
    }
   ],
   "source": [
    "True or True"
   ]
  },
  {
   "cell_type": "code",
   "execution_count": 24,
   "id": "c89ce25e-13dd-4a40-aa7e-6bdbb773e4c7",
   "metadata": {},
   "outputs": [
    {
     "data": {
      "text/plain": [
       "True"
      ]
     },
     "execution_count": 24,
     "metadata": {},
     "output_type": "execute_result"
    }
   ],
   "source": [
    "True or False"
   ]
  },
  {
   "cell_type": "markdown",
   "id": "ae98c86d-21c6-4765-b5aa-8118e96cca11",
   "metadata": {},
   "source": [
    "# list"
   ]
  },
  {
   "cell_type": "code",
   "execution_count": 51,
   "id": "220e42c1-fe78-4ab6-ada8-605c557f5b44",
   "metadata": {},
   "outputs": [
    {
     "name": "stdout",
     "output_type": "stream",
     "text": [
      "10\n",
      "[0, 2, 3, 4, 4, 6, 7, 7, 34, 45]\n",
      "[45, 34, 7, 7, 6, 4, 4, 3, 2, 0]\n",
      "[0, 2, 3, 4, 4, 6, 7, 7, 34, 45]\n",
      "10\n"
     ]
    }
   ],
   "source": [
    "lst=[7,4,7,3,2,0,6,4,45,34]\n",
    "print(len(lst))\n",
    "lst.sort()\n",
    "print(lst)\n",
    "lst.sort(reverse=True)\n",
    "print(lst)\n",
    "lst.reverse()\n",
    "print(lst)\n",
    "print(len(lst))"
   ]
  },
  {
   "cell_type": "code",
   "execution_count": 52,
   "id": "7fdade67-5e52-4b7b-aa9e-0bc8c1efba36",
   "metadata": {},
   "outputs": [
    {
     "data": {
      "text/plain": [
       "112"
      ]
     },
     "execution_count": 52,
     "metadata": {},
     "output_type": "execute_result"
    }
   ],
   "source": [
    "sum(lst)"
   ]
  },
  {
   "cell_type": "code",
   "execution_count": null,
   "id": "2cbb6634-89be-4c27-9153-39a22f1d4cad",
   "metadata": {},
   "outputs": [],
   "source": []
  }
 ],
 "metadata": {
  "kernelspec": {
   "display_name": "Python [conda env:base] *",
   "language": "python",
   "name": "conda-base-py"
  },
  "language_info": {
   "codemirror_mode": {
    "name": "ipython",
    "version": 3
   },
   "file_extension": ".py",
   "mimetype": "text/x-python",
   "name": "python",
   "nbconvert_exporter": "python",
   "pygments_lexer": "ipython3",
   "version": "3.13.5"
  }
 },
 "nbformat": 4,
 "nbformat_minor": 5
}
