{
 "cells": [
  {
   "cell_type": "code",
   "execution_count": 1,
   "id": "9c73afc5-b729-41af-9c78-b30e0265eb0c",
   "metadata": {},
   "outputs": [
    {
     "name": "stdout",
     "output_type": "stream",
     "text": [
      "its starting of python journy\n"
     ]
    }
   ],
   "source": [
    "print(\"its starting of python journy\")"
   ]
  },
  {
   "cell_type": "code",
   "execution_count": 2,
   "id": "2e3a5726-5e2e-4549-a746-6784690aa6e6",
   "metadata": {},
   "outputs": [
    {
     "name": "stdout",
     "output_type": "stream",
     "text": [
      "sum of a and b is 510\n"
     ]
    }
   ],
   "source": [
    "#we need not declear int, char, float in front of veriable decleration\n",
    "#for ex addition of two numbers\n",
    "a=10\n",
    "b=500\n",
    "sum=a+b\n",
    "print(\"sum of a and b is\",sum)"
   ]
  },
  {
   "cell_type": "code",
   "execution_count": 4,
   "id": "d24e3de1-5abc-4881-8ec2-c8d7530c24b5",
   "metadata": {},
   "outputs": [
    {
     "name": "stdin",
     "output_type": "stream",
     "text": [
      "enter any intiger: 5\n"
     ]
    },
    {
     "name": "stdout",
     "output_type": "stream",
     "text": [
      "krishnakrishnakrishnakrishnakrishna\n"
     ]
    }
   ],
   "source": [
    "#if we multiply string with integer then string get multiplied n times\n",
    "n=int(input(\"enter any intiger:\"))\n",
    "str=\"krishna\"\n",
    "mul=str*n\n",
    "print(mul)"
   ]
  }
 ],
 "metadata": {
  "kernelspec": {
   "display_name": "Python [conda env:base] *",
   "language": "python",
   "name": "conda-base-py"
  },
  "language_info": {
   "codemirror_mode": {
    "name": "ipython",
    "version": 3
   },
   "file_extension": ".py",
   "mimetype": "text/x-python",
   "name": "python",
   "nbconvert_exporter": "python",
   "pygments_lexer": "ipython3",
   "version": "3.13.5"
  }
 },
 "nbformat": 4,
 "nbformat_minor": 5
}
