{
  "nbformat": 4,
  "nbformat_minor": 0,
  "metadata": {
    "colab": {
      "provenance": [],
      "toc_visible": true,
      "authorship_tag": "ABX9TyPjUe6KT3K9Thm/0EZ4VDPI",
      "include_colab_link": true
    },
    "kernelspec": {
      "name": "python3",
      "display_name": "Python 3"
    },
    "language_info": {
      "name": "python"
    }
  },
  "cells": [
    {
      "cell_type": "markdown",
      "metadata": {
        "id": "view-in-github",
        "colab_type": "text"
      },
      "source": [
        "<a href=\"https://colab.research.google.com/github/KrishnaGhute/pythonbasics/blob/main/Copy_of_code1.ipynb\" target=\"_parent\"><img src=\"https://colab.research.google.com/assets/colab-badge.svg\" alt=\"Open In Colab\"/></a>"
      ]
    },
    {
      "cell_type": "code",
      "execution_count": null,
      "metadata": {
        "colab": {
          "base_uri": "https://localhost:8080/"
        },
        "id": "OMPJnWhqo_81",
        "outputId": "4021a5b5-9391-4328-d395-fc5ef9f14fbb"
      },
      "outputs": [
        {
          "output_type": "stream",
          "name": "stdout",
          "text": [
            "enter a number1:2\n",
            "enter a number2:2\n",
            "sum is  4\n"
          ]
        }
      ],
      "source": [
        "num1=int(input(\"enter a number1:\"))\n",
        "num2=int(input(\"enter a number2:\"))\n",
        "sum=num1+num2\n",
        "print(\"sum is \",sum)"
      ]
    }
  ]
}